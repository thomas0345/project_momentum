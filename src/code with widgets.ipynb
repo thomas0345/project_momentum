{
 "cells": [
  {
   "cell_type": "code",
   "execution_count": 1,
   "id": "4411b685",
   "metadata": {},
   "outputs": [
    {
     "ename": "SyntaxError",
     "evalue": "invalid syntax (3154460117.py, line 1)",
     "output_type": "error",
     "traceback": [
      "\u001b[1;36m  Input \u001b[1;32mIn [1]\u001b[1;36m\u001b[0m\n\u001b[1;33m    pip install yfinance #--target=C:\\Users\\jazbi\\Documents\\uzh\\3.year\\DIg tools for Fin\u001b[0m\n\u001b[1;37m        ^\u001b[0m\n\u001b[1;31mSyntaxError\u001b[0m\u001b[1;31m:\u001b[0m invalid syntax\n"
     ]
    }
   ],
   "source": [
    "pip install yfinance #--target=C:\\Users\\jazbi\\Documents\\uzh\\3.year\\DIg tools for Fin\n",
    "\n"
   ]
  },
  {
   "cell_type": "code",
   "execution_count": 3,
   "id": "3b4a9218",
   "metadata": {},
   "outputs": [],
   "source": [
    "import yfinance as yf\n",
    "import numpy as np\n",
    "import pandas as pd\n",
    "import matplotlib.pyplot as plt\n",
    "import ipywidgets as widgets"
   ]
  },
  {
   "cell_type": "code",
   "execution_count": 31,
   "id": "86f1e26e",
   "metadata": {},
   "outputs": [
    {
     "data": {
      "application/vnd.jupyter.widget-view+json": {
       "model_id": "2b7a2bd476de48be91a292e7e2760b26",
       "version_major": 2,
       "version_minor": 0
      },
      "text/plain": [
       "BoundedIntText(value=3, description='Longs:', max=8)"
      ]
     },
     "metadata": {},
     "output_type": "display_data"
    }
   ],
   "source": [
    "# here specify the number of ETFs held long each period in the text box\n",
    "w_nLong = widgets.BoundedIntText(\n",
    "    value=3,\n",
    "    min=0,\n",
    "    max=8,\n",
    "    step=1,\n",
    "    description='Longs:',\n",
    "    disabled=False\n",
    ")\n",
    "display(w_nLong)"
   ]
  },
  {
   "cell_type": "code",
   "execution_count": 32,
   "id": "6ca30433",
   "metadata": {},
   "outputs": [
    {
     "data": {
      "application/vnd.jupyter.widget-view+json": {
       "model_id": "b63aea4e247d437b86dd4b37d1a98fc7",
       "version_major": 2,
       "version_minor": 0
      },
      "text/plain": [
       "BoundedIntText(value=3, description='Shorts:', max=8)"
      ]
     },
     "metadata": {},
     "output_type": "display_data"
    }
   ],
   "source": [
    "# here specify the number of ETFs held Short each period in the text box (for long-only strategy specify 0)\n",
    "w_nShort = widgets.BoundedIntText(\n",
    "    value=3,\n",
    "    min=0,\n",
    "    max=8,\n",
    "    step=1,\n",
    "    description='Shorts:',\n",
    "    disabled=False\n",
    ")\n",
    "display(w_nShort)"
   ]
  },
  {
   "cell_type": "code",
   "execution_count": 35,
   "id": "65a4e0df",
   "metadata": {},
   "outputs": [
    {
     "data": {
      "application/vnd.jupyter.widget-view+json": {
       "model_id": "727deb832a094dd39519f2068dfc4ab5",
       "version_major": 2,
       "version_minor": 0
      },
      "text/plain": [
       "FloatSlider(value=0.001, continuous_update=False, description='Transaction costs:', max=0.005, readout_format=…"
      ]
     },
     "metadata": {},
     "output_type": "display_data"
    }
   ],
   "source": [
    "# here choose level of transaction costs by moving the toggle \n",
    "w_tCost = widgets.FloatSlider(\n",
    "    value=0.001,\n",
    "    min=0,\n",
    "    max=0.005,\n",
    "    step=0.001,\n",
    "    description='Transaction costs:',\n",
    "    disabled=False,\n",
    "    continuous_update=False,\n",
    "    orientation='horizontal',\n",
    "    readout=True,\n",
    "    readout_format='.3f',\n",
    ")\n",
    "display(w_tCost)"
   ]
  },
  {
   "cell_type": "code",
   "execution_count": 52,
   "id": "f124fa9b",
   "metadata": {},
   "outputs": [
    {
     "data": {
      "application/vnd.jupyter.widget-view+json": {
       "model_id": "d7a81378f38846bbb669a586610ae0e9",
       "version_major": 2,
       "version_minor": 0
      },
      "text/plain": [
       "BoundedIntText(value=1, description='Lag:', max=7)"
      ]
     },
     "metadata": {},
     "output_type": "display_data"
    }
   ],
   "source": [
    "# here specify the number of days of trading lag\n",
    "w_lag = widgets.BoundedIntText(\n",
    "    value=1,\n",
    "    min=0,\n",
    "    max=7,\n",
    "    step=1,\n",
    "    description='Lag:',\n",
    "    disabled=False\n",
    ")\n",
    "display(w_lag)"
   ]
  },
  {
   "cell_type": "code",
   "execution_count": 53,
   "id": "763e0ca2",
   "metadata": {},
   "outputs": [],
   "source": [
    "# Parameter selection\n",
    "# Annualization factor from monthly to annual\n",
    "annualizationFactor = 12;\n",
    "# Number of countries held long and short (in Long-only version set nShort to 0)\n",
    "nLong = int(w_nLong.value)\n",
    "nShort = int(w_nShort.value)\n",
    "# Proportional transaction costs\n",
    "tCost = float(w_tCost.value)\n",
    "# Momentum lookback period (start and end of window, as positive numbers; start must be greater than end)\n",
    "lookbackStart = 12;\n",
    "lookbackEnd = 1;\n",
    "#trading lag in days\n",
    "lag = int(w_lag.value)"
   ]
  },
  {
   "cell_type": "code",
   "execution_count": 54,
   "id": "9b75b321",
   "metadata": {},
   "outputs": [
    {
     "data": {
      "text/plain": [
       "5"
      ]
     },
     "execution_count": 54,
     "metadata": {},
     "output_type": "execute_result"
    }
   ],
   "source": [
    "nLong"
   ]
  },
  {
   "cell_type": "code",
   "execution_count": 55,
   "id": "a6898d12",
   "metadata": {},
   "outputs": [
    {
     "data": {
      "text/plain": [
       "0"
      ]
     },
     "execution_count": 55,
     "metadata": {},
     "output_type": "execute_result"
    }
   ],
   "source": [
    "nShort"
   ]
  },
  {
   "cell_type": "code",
   "execution_count": 56,
   "id": "d2046b1b",
   "metadata": {},
   "outputs": [
    {
     "data": {
      "text/plain": [
       "0.002"
      ]
     },
     "execution_count": 56,
     "metadata": {},
     "output_type": "execute_result"
    }
   ],
   "source": [
    "tCost"
   ]
  },
  {
   "cell_type": "code",
   "execution_count": 57,
   "id": "0def2556",
   "metadata": {},
   "outputs": [
    {
     "data": {
      "text/plain": [
       "4"
      ]
     },
     "execution_count": 57,
     "metadata": {},
     "output_type": "execute_result"
    }
   ],
   "source": [
    "lag"
   ]
  },
  {
   "cell_type": "code",
   "execution_count": null,
   "id": "d7ac99d9",
   "metadata": {},
   "outputs": [],
   "source": [
    "ETFPrices = yf.download(['AAPL', 'F'], \n",
    "                   start='2010-01-01', \n",
    "                   end='2024-09-20')\n",
    "ETFPrices"
   ]
  },
  {
   "cell_type": "code",
   "execution_count": null,
   "id": "65035bb7",
   "metadata": {},
   "outputs": [],
   "source": [
    "Rf_Daily = yf.download(['^IRX'], \n",
    "                   start='2010-01-01', \n",
    "                   end='2024-09-20')"
   ]
  },
  {
   "cell_type": "code",
   "execution_count": null,
   "id": "4378c8a2",
   "metadata": {},
   "outputs": [],
   "source": [
    "def get_first_and_last_day_in_period(date_list, n_digits):\n",
    "    \"\"\"\n",
    "    Generate arrays listing the first and last observation in each period.\n",
    "    Dates should be provided as numeric in the format YYYYMMDD, YYMMDD, or MMDD.\n",
    "    The granularity of the period is defined by the number of digits that\n",
    "    are removed from the date list. 2 digits will convert daily data to monthly data\n",
    "    or monthly data to annual data. 4 digits will convert daily data to annual data.\n",
    "\n",
    "     date_list: List or numpy array of dates in numeric format \n",
    "     n_digits: Number of digits to be removed from the date list to define the period e.g. two to tet months\n",
    "    :return: Two lists containing the indices of the first and last observations in each period\n",
    "    \"\"\"\n",
    "    n_obs = len(date_list)\n",
    "    scaling_factor = 1 / (10 ** n_digits)\n",
    "    trimmed_date = np.round(date_list * scaling_factor).astype(int)\n",
    "    last_day_of_period = trimmed_date[:-1] - trimmed_date[1:]\n",
    "\n",
    "    # Generate a list with the last days, and use it to generate the list of the first days\n",
    "    last_day_list = np.where(last_day_of_period != 0)[0]\n",
    "    first_day_list = last_day_list + 1\n",
    "    last_day_list = np.append(last_day_list, n_obs - 1)  # Add the last day in the sample\n",
    "    first_day_list = np.insert(first_day_list, 0, 0)     # Add the first day in the sample\n",
    "\n",
    "    return first_day_list, last_day_list"
   ]
  },
  {
   "cell_type": "code",
   "execution_count": null,
   "id": "19a3d2b5",
   "metadata": {},
   "outputs": [],
   "source": [
    "#get nMonths and nAssets\n",
    "last_days_list_Months = get_first_and_last_day_in_period(ETFPrices, 2)['last_day_list']#see hwat the actual output of the function is\n",
    "nMonths = size(last_days_list,1) - 1\n",
    "nAssets = size(ETF, 2)"
   ]
  },
  {
   "cell_type": "code",
   "execution_count": null,
   "id": "f66108d0",
   "metadata": {},
   "outputs": [],
   "source": [
    "#get returns from prices -- still daily\n",
    "ETFReturns_Daily = np.zeros(nMonths, nAssets)\n",
    "ETFReturns_Daily[1:, :] = ETFPrices[1:, :] / ETFPrices[:-1, :] - 1"
   ]
  },
  {
   "cell_type": "code",
   "execution_count": null,
   "id": "662701a2",
   "metadata": {},
   "outputs": [],
   "source": [
    "# Compute monthlyDates4Fig using dates4Fig function\n",
    "dates4Fig = ETFPrices['Date']\n",
    "monthlyDates4Fig = dates4Fig(lastDayList)\n",
    "# Assuming dates4Fig is a pandas Series or list of dates in string format\n",
    "# Convert dates4Fig to a pandas datetime format\n",
    "dates4Fig = pd.to_datetime(dates4Fig)\n",
    "# Convert the datetime to a numeric format (number of days since a reference date, e.g., 1970-01-01)\n",
    "datesNumeric = (dates4Fig - pd.Timestamp(\"1970-01-01\")) / pd.Timedelta(days=1)\n",
    "datesNumeric = datesNumeric.to_numpy()\n",
    "##########################THIS MIGHT BE WRONG IDK HOW CHATGPT DID THIS #######################################\n",
    "# Convert to YYYYMMDD format\n",
    "dates = dates4Fig.dt.strftime('%Y%m%d')#.astype(int)  # Convert to int if needed"
   ]
  },
  {
   "cell_type": "code",
   "execution_count": null,
   "id": "2932c6b0",
   "metadata": {},
   "outputs": [],
   "source": [
    "#function for weights computation\n",
    "def compute_sort_weights(sort_variable, n_longs, n_shorts, long_high_values):\n",
    "    \"\"\"\n",
    "    Generates portfolio weights based on sort_variable.\n",
    "    \n",
    "    Parameters:\n",
    "    - sort_variable: Array of values used to sort assets.\n",
    "    - n_longs: Number of assets to hold long.\n",
    "    - n_shorts: Number of assets to hold short.\n",
    "    - long_high_values: If 1, assets with the highest values are held long.\n",
    "    \n",
    "    Returns:\n",
    "    - weights: Array of weights assigned to each asset.\n",
    "    \"\"\"\n",
    "    # Remove NaN values and get indices\n",
    "    sort_variable = np.array(sort_variable)\n",
    "    n_assets = len(sort_variable)\n",
    "    \n",
    "    # Initialize weights\n",
    "    weights = np.zeros(n_assets)\n",
    "    \n",
    "    # Handle NaN values by using boolean indexing\n",
    "    valid_indices = ~np.isnan(sort_variable)\n",
    "    valid_sort_variable = sort_variable[valid_indices]\n",
    "    \n",
    "    if long_high_values == 1:\n",
    "        # Get indices of highest and lowest values\n",
    "        list_of_longs = np.argsort(valid_sort_variable)[-n_longs:]  # Highest\n",
    "        list_of_shorts = np.argsort(valid_sort_variable)[:n_shorts]  # Lowest\n",
    "    else:\n",
    "        list_of_longs = np.argsort(valid_sort_variable)[:n_longs]  # Lowest\n",
    "        list_of_shorts = np.argsort(valid_sort_variable)[-n_shorts:]  # Highest\n",
    "    \n",
    "    # Assign weights\n",
    "    weights[valid_indices] = 0  # Reset weights for valid indices\n",
    "    weights[valid_indices][list_of_longs] = 1 / n_longs\n",
    "    weights[valid_indices][list_of_shorts] = -1 / n_shorts\n",
    "\n",
    "    return weights"
   ]
  },
  {
   "cell_type": "code",
   "execution_count": null,
   "id": "38271a32",
   "metadata": {},
   "outputs": [],
   "source": [
    "ETFReturns_Monthly = np.zeros((nMonths, nAssets))\n",
    "momLSWeights = np.zeros((nMonths, nAssets))\n",
    "# Second, compute the return in the month, honoring any trading lag, \n",
    "# and obtain the portfolio weights by sorting on past returns.\n",
    "for m in range(nMonths):\n",
    "    first = max(firstDayList[m] - lag, 0)  \n",
    "    last = lastDayList[m] - lag\n",
    "    \n",
    "    # Calculate the cumulative product of returns over the period\n",
    "    ETFReturns_Monthly = np.prod(1 + ETFReturns_Daily[first:last, :], axis=0)\n",
    "    \n",
    "    # Compute weights using the computeSortWeights function\n",
    "    momLSWeights[m, :] = computeSortWeights(monthlyRet, nLongs, nShorts, 1)\n",
    "# In order to have weights and returns in sync, one drops firstMonth months from the beginning of the return series, and (firstMonth - 1) months from \n",
    "# the beginning of the portfolio weight series. We keep one extra month at the end of the portfolio weights series for the turnover computations later.\n",
    "#this is TBDone but I first wanted dthe sceleton of the code before running with data"
   ]
  },
  {
   "cell_type": "code",
   "execution_count": null,
   "id": "fdb88abb",
   "metadata": {},
   "outputs": [],
   "source": [
    "# Assuming dateNumeric and Rf are defined as numpy arrays\n",
    "\n",
    "# Compute the number of calendar days until the end of the next month\n",
    "dayCount = np.diff(datesNumeric)\n",
    "\n",
    "# Initialize RfMonthly as a zeros array\n",
    "RfMonthly = np.zeros((nMonths, 1))\n",
    "\n",
    "# Calculate the monthly returns for the riskless asset, shifted down by one month\n",
    "RfMonthly[1:, 0] = Rf[:-1, 0] * dayCount / 360 "
   ]
  },
  {
   "cell_type": "code",
   "execution_count": null,
   "id": "8d484ae2",
   "metadata": {},
   "outputs": [],
   "source": [
    "# Compute strategy returns without transaction costs\n",
    "# Replace NaN returns with zeros\n",
    "ETFReturns_Monthly = np.nan_to_num(ETFReturns_Monthly)  # This replaces NaN with 0\n",
    "\n",
    "# Initialize an array for strategy returns\n",
    "stratReturnsNoTC = np.zeros((nMonths, 2))\n",
    "\n",
    "# Compute returns for equal weights, momentum long weights, and momentum long-short weights\n",
    "stratReturnsNoTC[:, 1] = np.sum(ETFReturns_Monthly[:-1, :] * momLSWeights[:-1, :], axis=1) + RfMonthly#still need to define the monthly Rf return\n",
    "stratReturnsNoTC[:, 2] = np.sum(ETFReturns_Monthly[:-1, :] * momLSWeights[:-1, :], axis=1) "
   ]
  },
  {
   "cell_type": "code",
   "execution_count": null,
   "id": "d90b2527",
   "metadata": {},
   "outputs": [],
   "source": [
    "#calcilate the startegy cumulative return for the graph of strategy performance\n",
    "# Assuming allTotalReturns is a numpy array \n",
    "strategyNAV = np.cumprod(1 + stratReturnsNoTC)"
   ]
  },
  {
   "cell_type": "code",
   "execution_count": null,
   "id": "fd6ee926",
   "metadata": {},
   "outputs": [],
   "source": [
    "#graph of strategy performance\n",
    "# Assuming dates4Fig is a pandas Series or a NumPy array of dates\n",
    "# and strategyNAV is a NumPy array\n",
    "plt.figure(figsize=(8, 6))\n",
    "\n",
    "# Plotting the strategy NAV for different portfolios\n",
    "plt.plot(dates4Fig, strategyNAV[:, 1], 'b-', label='Momentum Long Only')\n",
    "plt.plot(dates4Fig, strategyNAV[:, 2], 'r-', label='Momentum Long/Short')\n",
    "\n",
    "# Labeling axes\n",
    "plt.xlabel('Year')\n",
    "plt.ylabel('Portfolio Value')\n",
    "\n",
    "# Adding legend\n",
    "plt.legend(loc='upper left')\n",
    "\n",
    "# Setting font size\n",
    "plt.tick_params(axis='both', labelsize=15)\n",
    "\n",
    "# Show the plot\n",
    "plt.tight_layout()\n",
    "plt.show()"
   ]
  }
 ],
 "metadata": {
  "kernelspec": {
   "display_name": "Python 3 (ipykernel)",
   "language": "python",
   "name": "python3"
  },
  "language_info": {
   "codemirror_mode": {
    "name": "ipython",
    "version": 3
   },
   "file_extension": ".py",
   "mimetype": "text/x-python",
   "name": "python",
   "nbconvert_exporter": "python",
   "pygments_lexer": "ipython3",
   "version": "3.9.12"
  }
 },
 "nbformat": 4,
 "nbformat_minor": 5
}
